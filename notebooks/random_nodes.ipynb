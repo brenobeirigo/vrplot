{
 "cells": [
  {
   "cell_type": "code",
   "execution_count": 1,
   "id": "1ac427ce-6881-4b78-ad66-1eb4cafec334",
   "metadata": {},
   "outputs": [
    {
     "name": "stdout",
     "output_type": "stream",
     "text": [
      "2 vehicles can pick up 2 customers in 3 different ways.\n",
      "\n",
      "# Ways (vehicles are separated by '|'):\n",
      "  1  **|\n",
      "  2  *|*\n",
      "  3  |**\n"
     ]
    }
   ],
   "source": [
    "import sys\n",
    "import os\n",
    "sys.path.append(os.path.abspath(\"../\"))\n",
    "\n",
    "import vrplot.util as util\n",
    "\n",
    "import vrplot.opt.complexity as complexity\n",
    "import itertools\n",
    "coords = util.get_random_nodes(6)\n",
    "\n",
    "# Transformation to set exclude duplicate permutations\n",
    "ways = set(itertools.permutations((\"*\",\"*\",\"|\")))\n",
    "\n",
    "\n",
    "print(f\"2 vehicles can pick up 2 customers in {len(ways)} different ways.\\n\")\n",
    "print(\"# Ways (vehicles are separated by '|'):\")\n",
    "\n",
    "complexity.enumerate_ways(ways)"
   ]
  },
  {
   "cell_type": "code",
   "execution_count": null,
   "id": "e6f33e78-48bd-4fe7-9569-63adb403cbc6",
   "metadata": {},
   "outputs": [],
   "source": []
  }
 ],
 "metadata": {
  "kernelspec": {
   "display_name": "envml",
   "language": "python",
   "name": "envml"
  },
  "language_info": {
   "codemirror_mode": {
    "name": "ipython",
    "version": 3
   },
   "file_extension": ".py",
   "mimetype": "text/x-python",
   "name": "python",
   "nbconvert_exporter": "python",
   "pygments_lexer": "ipython3",
   "version": "3.8.10"
  }
 },
 "nbformat": 4,
 "nbformat_minor": 5
}
